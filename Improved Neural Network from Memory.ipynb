{
 "cells": [
  {
   "cell_type": "code",
   "execution_count": 1,
   "id": "d2cd76b9",
   "metadata": {},
   "outputs": [
    {
     "name": "stdout",
     "output_type": "stream",
     "text": [
      "Error:0.6342311598444467\n",
      "Error:0.35838407676317513\n",
      "Error:0.0830183113303298\n",
      "Error:0.006467054957103705\n",
      "Error:0.0003292669000750734\n",
      "Error:1.5055622665134859e-05\n"
     ]
    }
   ],
   "source": [
    "import numpy as np\n",
    "\n",
    "np.random.seed(1)\n",
    "\n",
    "def relu(x):\n",
    "    return (x>0) * x\n",
    "\n",
    "def relu2deriv(output):\n",
    "    return output>0\n",
    "\n",
    "\n",
    "streetlights = np.array([[1,0,1],\n",
    "              [0,1,1],\n",
    "              [0,0,1],\n",
    "              [1,1,1]])\n",
    "walk_vs_stop = np.array([[1,1,0,0]]).T\n",
    "\n",
    "alpha = 0.2\n",
    "hidden_size = 4\n",
    "\n",
    "weights_0_1 = 2 * np.random.random((3, hidden_size)) - 1\n",
    "weights_1_2 = 2 * np.random.random((hidden_size,1)) - 1\n",
    "\n",
    "for itera in range(60):\n",
    "    value_2_error = 0\n",
    "    for i in range(len(streetlights)):\n",
    "        value_0 = streetlights[i:i+1]\n",
    "        value_1 = relu(np.dot(value_0, weights_0_1))\n",
    "        value_2 = np.dot(value_1, weights_1_2)\n",
    "        \n",
    "        value_2_error += np.sum((value_2-walk_vs_stop[i:i+1])**2)\n",
    "        \n",
    "        value_2_delta = value_2 - walk_vs_stop[i:i+1]\n",
    "        value_1_delta = value_2_delta.dot(weights_1_2.T)*relu2deriv(value_1)\n",
    "        \n",
    "        weights_1_2 -= alpha * value_1.T.dot(value_2_delta)\n",
    "        weights_0_1 -= alpha * value_0.T.dot(value_1_delta)\n",
    "    if (itera%10 ==9):\n",
    "        print(\"Error:\" + str(value_2_error))"
   ]
  },
  {
   "cell_type": "code",
   "execution_count": null,
   "id": "63fc1ebf",
   "metadata": {},
   "outputs": [],
   "source": []
  }
 ],
 "metadata": {
  "kernelspec": {
   "display_name": "Python 3 (ipykernel)",
   "language": "python",
   "name": "python3"
  },
  "language_info": {
   "codemirror_mode": {
    "name": "ipython",
    "version": 3
   },
   "file_extension": ".py",
   "mimetype": "text/x-python",
   "name": "python",
   "nbconvert_exporter": "python",
   "pygments_lexer": "ipython3",
   "version": "3.10.9"
  }
 },
 "nbformat": 4,
 "nbformat_minor": 5
}
